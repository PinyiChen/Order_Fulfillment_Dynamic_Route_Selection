{
 "cells": [
  {
   "cell_type": "code",
   "execution_count": 1,
   "metadata": {},
   "outputs": [],
   "source": [
    "from main import run\n",
    "import yaml\n",
    "import os \n",
    "local_path = os.getcwd()"
   ]
  },
  {
   "cell_type": "code",
   "execution_count": 3,
   "metadata": {},
   "outputs": [
    {
     "name": "stdout",
     "output_type": "stream",
     "text": [
      "DPS initialization: 0.007 min(s)\n",
      "Set parameter Username\n",
      "Academic license - for non-commercial use only - expires 2023-09-07\n"
     ]
    }
   ],
   "source": [
    "\n",
    "with open('config.yaml', 'r') as f:\n",
    "    cfg = yaml.safe_load(f)\n",
    "\n",
    "cfg['INPUT_DIR'] = local_path + '/data/case_X'\n",
    "cfg['OUTPUT_DIR'] = local_path + '/output/result_of_case_X'\n",
    "cfg['benchmark_solution'] = True\n",
    "\n",
    "run(cfg)\n",
    "\n"
   ]
  }
 ],
 "metadata": {
  "kernelspec": {
   "display_name": "Python 3.10.6 ('cvxpy_env')",
   "language": "python",
   "name": "python3"
  },
  "language_info": {
   "codemirror_mode": {
    "name": "ipython",
    "version": 3
   },
   "file_extension": ".py",
   "mimetype": "text/x-python",
   "name": "python",
   "nbconvert_exporter": "python",
   "pygments_lexer": "ipython3",
   "version": "3.10.6"
  },
  "orig_nbformat": 4,
  "vscode": {
   "interpreter": {
    "hash": "fd7e2e28ee8af82a05e0db64c5d2a85696db9923b30f016cb9dc9c9344ae8567"
   }
  }
 },
 "nbformat": 4,
 "nbformat_minor": 2
}
